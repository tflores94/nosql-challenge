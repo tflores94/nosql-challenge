{
 "cells": [
  {
   "cell_type": "markdown",
   "id": "9a57c4c6",
   "metadata": {},
   "source": [
    "# Eat Safe, Love"
   ]
  },
  {
   "cell_type": "markdown",
   "id": "064ef857",
   "metadata": {},
   "source": [
    "## Notebook Set Up"
   ]
  },
  {
   "cell_type": "code",
   "execution_count": 98,
   "id": "3ecdd008",
   "metadata": {},
   "outputs": [],
   "source": [
    "from pymongo import MongoClient\n",
    "import pandas as pd\n",
    "from pprint import pprint"
   ]
  },
  {
   "cell_type": "code",
   "execution_count": 99,
   "id": "59390c4a",
   "metadata": {},
   "outputs": [],
   "source": [
    "# Create an instance of MongoClient\n",
    "mongo = MongoClient(port=27017)"
   ]
  },
  {
   "cell_type": "code",
   "execution_count": 100,
   "id": "71e373c1",
   "metadata": {},
   "outputs": [],
   "source": [
    "# assign the uk_food database to a variable name\n",
    "db = mongo['uk_food']"
   ]
  },
  {
   "cell_type": "code",
   "execution_count": 101,
   "id": "18ab463c",
   "metadata": {},
   "outputs": [
    {
     "name": "stdout",
     "output_type": "stream",
     "text": [
      "['establishments']\n"
     ]
    }
   ],
   "source": [
    "# review the collections in our database\n",
    "print(db.list_collection_names())"
   ]
  },
  {
   "cell_type": "code",
   "execution_count": 102,
   "id": "11c9f11b",
   "metadata": {},
   "outputs": [],
   "source": [
    "# assign the collection to a variable\n",
    "establishments = db['establishments']"
   ]
  },
  {
   "cell_type": "markdown",
   "id": "d5671434",
   "metadata": {},
   "source": [
    "## Part 3: Exploratory Analysis\n",
    "Unless otherwise stated, for each question: \n",
    "* Use `count_documents` to display the number of documents contained in the result.\n",
    "* Display the first document in the results using `pprint`.\n",
    "* Convert the result to a Pandas DataFrame, print the number of rows in the DataFrame, and display the first 10 rows."
   ]
  },
  {
   "cell_type": "markdown",
   "id": "314bd884",
   "metadata": {},
   "source": [
    "### 1. Which establishments have a hygiene score equal to 20?"
   ]
  },
  {
   "cell_type": "code",
   "execution_count": 104,
   "id": "c2da7648",
   "metadata": {},
   "outputs": [
    {
     "name": "stdout",
     "output_type": "stream",
     "text": [
      "Number of documents in results:  0\n",
      "First result:\n",
      "Documents in DataFrame:  0\n",
      "Number of documents in result:  0\n",
      "First result:\n",
      "<pymongo.synchronous.cursor.Cursor object at 0x1393ffef0>\n"
     ]
    }
   ],
   "source": [
    "from pprint import pprint \n",
    "\n",
    "# Find the establishments with a hygiene score of 20\n",
    "query = {'scores.Hygiene': 20}\n",
    "print(\"Number of documents in results: \",establishments.count_documents(query))\n",
    "print(\"First result:\")\n",
    "results = establishments.find(query)\n",
    "\"print(results[0])\"\n",
    "\n",
    "# Use count_documents to display the number of documents in the result\n",
    "hygienic_20 = establishments.find(query)\n",
    "hygienic_20_df = pd.DataFrame(hygienic_20)\n",
    "print(\"Documents in DataFrame: \", len(hygienic_20_df))\n",
    "hygienic_20_df.head(10)\n",
    "\n",
    "# Display the first document in the results using pprint\n",
    "query = {'LocalAuthorityName': {'$regex':'London'}, 'RatingValue': {'$gte': 4}}\n",
    "print(\"Number of documents in result: \", establishments.count_documents(query))\n",
    "print(\"First result:\")\n",
    "results = establishments.find(query)\n",
    "\n",
    "pprint(results)\n",
    "\n"
   ]
  },
  {
   "cell_type": "code",
   "execution_count": 105,
   "id": "a6e5cece",
   "metadata": {},
   "outputs": [
    {
     "name": "stdout",
     "output_type": "stream",
     "text": [
      "Documents in DataFrame:  0\n",
      "Rows in DataFrame:  0\n",
      "Empty DataFrame\n",
      "Columns: []\n",
      "Index: []\n",
      "Number of documents in result:  0\n",
      "[]\n"
     ]
    }
   ],
   "source": [
    "from pprint import pprint\n",
    "\n",
    "# Convert the result to a Pandas DataFrame\n",
    "london_4s = establishments.find(query)\n",
    "london_4s_df = pd.DataFrame(london_4s)\n",
    "print(\"Documents in DataFrame: \", len(london_4s_df))\n",
    "london_4s_df.head(10)\n",
    "\n",
    "# Display the number of rows in the DataFrame\n",
    "result_df = pd.DataFrame(results)\n",
    "print(\"Rows in DataFrame: \", len(result_df))\n",
    "print(result_df.head(10))\n",
    "\n",
    "# Display the first 10 rows of the DataFrame\n",
    "pipeline = [\n",
    "{'$match': {'scores.Hygiene': 0}},\n",
    "{'$group': {'_id': \"$LocalAuthorityName\", 'count': {'$sum': 1 }}},\n",
    "{'$sort': {'count': -1 }}\n",
    "]\n",
    "\n",
    "# perform the aggregation\n",
    "results = list(establishments.aggregate(pipeline))\n",
    "print(\"Number of documents in result: \", len(results))\n",
    "pprint(results[:10])\n"
   ]
  },
  {
   "cell_type": "markdown",
   "id": "0ef4395a",
   "metadata": {},
   "source": [
    "### 2. Which establishments in London have a `RatingValue` greater than or equal to 4?"
   ]
  },
  {
   "cell_type": "code",
   "execution_count": null,
   "id": "3ca41aff",
   "metadata": {},
   "outputs": [
    {
     "name": "stdout",
     "output_type": "stream",
     "text": [
      "Documents in DataFrame:  0\n",
      "Empty DataFrame\n",
      "Columns: []\n",
      "Index: []\n",
      "Rows in DataFrame:  0\n",
      "Empty DataFrame\n",
      "Columns: []\n",
      "Index: []\n",
      "Number of documents in result:  0\n",
      "[]\n"
     ]
    }
   ],
   "source": [
    "from pprint import pprint\n",
    "\n",
    "# Convert the result to a Pandas DataFrame\n",
    "london_4s = establishments.find(query)\n",
    "london_4s_df = pd.DataFrame(london_4s)\n",
    "print(\"Documents in DataFrame: \", len(london_4s_df))\n",
    "print(london_4s_df.head(10))\n",
    "\n",
    "# Display the number of rows in the DataFrame\n",
    "result_df = pd.DataFrame(results)  \n",
    "print(\"Rows in DataFrame: \", len(result_df))\n",
    "print(result_df.head(10))\n",
    "\n",
    "# Define the aggregation pipeline\n",
    "pipeline = [\n",
    "    {'$match': {'scores.Hygiene': 0}},\n",
    "    {'$group': {'_id': \"$LocalAuthorityName\", 'count': {'$sum': 1}}},\n",
    "    {'$sort': {'count': -1}}\n",
    "]\n",
    "\n",
    "# Perform the aggregation\n",
    "results = list(establishments.aggregate(pipeline))\n",
    "print(\"Number of documents in result: \", len(results))\n",
    "pprint(results[:10])\n"
   ]
  },
  {
   "cell_type": "code",
   "execution_count": 107,
   "id": "07e24ccb",
   "metadata": {},
   "outputs": [
    {
     "name": "stdout",
     "output_type": "stream",
     "text": [
      "Documents in DataFrame:  0\n",
      "Empty DataFrame\n",
      "Columns: []\n",
      "Index: []\n"
     ]
    }
   ],
   "source": [
    "from pprint import pprint \n",
    "\n",
    "# Convert the result to a Pandas DataFrame\n",
    "result_df = pd.DataFrame(results)\n",
    "london_4s = establishments.find(query)\n",
    "london_4s_df = pd.DataFrame(london_4s)\n",
    "\n",
    "# Display the number of rows in the DataFrame\n",
    "print(\"Documents in DataFrame: \", len(london_4s_df))\n",
    "\n",
    "# Display the first 10 rows of the DataFrame\n",
    "print(result_df.head(10))"
   ]
  },
  {
   "attachments": {},
   "cell_type": "markdown",
   "id": "4e570caf",
   "metadata": {},
   "source": [
    "### 3. What are the top 5 establishments with a `RatingValue` rating value of 5, sorted by lowest hygiene score, nearest to the new restaurant added, \"Penang Flavours\"?"
   ]
  },
  {
   "cell_type": "code",
   "execution_count": 124,
   "id": "7f599f3d",
   "metadata": {},
   "outputs": [
    {
     "name": "stdout",
     "output_type": "stream",
     "text": [
      "Number of documents in result:  1\n",
      "([],)\n"
     ]
    }
   ],
   "source": [
    "from pprint import pprint\n",
    "\n",
    "# Search within 0.01 degree on either side of the latitude and longitude.\n",
    "# Rating value must equal 5\n",
    "# Sort by hygiene score\n",
    "\n",
    "degree_search = 0.01\n",
    "latitude = 51.49014200\n",
    "longitude = 0.08384000\n",
    " \n",
    " #define the query \n",
    "query = {\n",
    "'geocode.latitude': {'$gte':latitude-degree_search, '$lte':latitude+degree_search},\n",
    "'geocode.longitude': {'$gte':longitude-degree_search, '$lte': longitude+degree_search}, \n",
    "'RatingValue': 5\n",
    "}\n",
    "\n",
    "# Define the sorting criteria\n",
    "sort = [('score.Hygiene', 1)]\n",
    "\n",
    "# Define the limit for the results\n",
    "limit = 5\n",
    "\n",
    "near_flavours = establishments.find(query).sort(sort).limit(limit),\n",
    "near_flavours_df = pd.DataFrame(near_flavours),\n",
    "near_flavours_df\n",
    "\n",
    "# Define the aggregation pipeline\n",
    "pipeline = [\n",
    "    {'$match': {'scores.Hygiene': 0}},\n",
    "    {'$group': {'_id': \"$LocalAuthorityName\", 'count': { '$sum': 1 }}},\n",
    "    {'$sort': { 'count': -1 }}\n",
    "    ]\n",
    "\n",
    "# Execute the aggregation pipeline\n",
    "results = list(establishments.aggregate(pipeline)),\n",
    "\n",
    "# Print the number of documents in the result\n",
    "print(\"Number of documents in result: \", len(results)),\n",
    "\n",
    "pprint(results[0:10])\n"
   ]
  },
  {
   "cell_type": "code",
   "execution_count": 127,
   "id": "abd2e78c",
   "metadata": {},
   "outputs": [
    {
     "name": "stdout",
     "output_type": "stream",
     "text": [
      "Rows in DataFrame:  1\n"
     ]
    },
    {
     "data": {
      "text/html": [
       "<div>\n",
       "<style scoped>\n",
       "    .dataframe tbody tr th:only-of-type {\n",
       "        vertical-align: middle;\n",
       "    }\n",
       "\n",
       "    .dataframe tbody tr th {\n",
       "        vertical-align: top;\n",
       "    }\n",
       "\n",
       "    .dataframe thead th {\n",
       "        text-align: right;\n",
       "    }\n",
       "</style>\n",
       "<table border=\"1\" class=\"dataframe\">\n",
       "  <thead>\n",
       "    <tr style=\"text-align: right;\">\n",
       "      <th></th>\n",
       "    </tr>\n",
       "  </thead>\n",
       "  <tbody>\n",
       "    <tr>\n",
       "      <th>0</th>\n",
       "    </tr>\n",
       "  </tbody>\n",
       "</table>\n",
       "</div>"
      ],
      "text/plain": [
       "Empty DataFrame\n",
       "Columns: []\n",
       "Index: [0]"
      ]
     },
     "execution_count": 127,
     "metadata": {},
     "output_type": "execute_result"
    }
   ],
   "source": [
    "# Convert result to Pandas DataFrame\n",
    "result_df = pd.DataFrame(results)\n",
    "print(\"Rows in DataFrame: \", len(result_df))\n",
    "result_df.head(10)"
   ]
  },
  {
   "cell_type": "markdown",
   "id": "67281254",
   "metadata": {},
   "source": [
    "### 4. How many establishments in each Local Authority area have a hygiene score of 0?"
   ]
  },
  {
   "cell_type": "code",
   "execution_count": 135,
   "id": "4eeb227e",
   "metadata": {},
   "outputs": [
    {
     "name": "stdout",
     "output_type": "stream",
     "text": [
      "Number of documents in result:  0\n",
      "[]\n"
     ]
    }
   ],
   "source": [
    "# Create a pipeline that:\n",
    "# 1. Matches establishments with a hygiene score of 0\n",
    "# 2. Groups the matches by Local Authority\n",
    "# 3. Sorts the matches from highest to lowest\n",
    "\n",
    "# Print the number of documents in the result\n",
    "\n",
    "# Print the first 10 results\n",
    "\n",
    "pipeline = [\n",
    "{'$match': {'scores.Hygiene': 0}},\n",
    "{'$group': {'_id': \"$LocalAuthorityName\", 'count': {'$sum': 1 }}},\n",
    "{'$sort': {'count': -1 }}\n",
    "]\n",
    "\n",
    "results = list(establishments.aggregate(pipeline))\n",
    "\n",
    "print(\"Number of documents in result: \", len(results))\n",
    "\n",
    "pprint(results[0:10])\n",
    "\n",
    "\n"
   ]
  },
  {
   "cell_type": "code",
   "execution_count": 136,
   "id": "d8aab364",
   "metadata": {},
   "outputs": [
    {
     "name": "stdout",
     "output_type": "stream",
     "text": [
      "Number of rows in DataFrame: 0\n",
      "Empty DataFrame\n",
      "Columns: []\n",
      "Index: []\n"
     ]
    }
   ],
   "source": [
    "# Convert the result to a Pandas DataFrame\n",
    "\n",
    "# Display the number of rows in the DataFrame\n",
    "\n",
    "# Display the first 10 rows of the DataFrame\n",
    "\n",
    "pipeline = [\n",
    "    {'$match': {'scores.Hygiene': 0}},  \n",
    "    {'$group': {'_id': \"$LocalAuthorityName\", 'count': {'$sum': 1}}}, \n",
    "    {'$sort': {'count': -1}}  \n",
    "]\n",
    "\n",
    "# Execute the pipeline and fetch results\n",
    "results = list(establishments.aggregate(pipeline))\n",
    "\n",
    "# Convert the results to a Pandas DataFrame\n",
    "results_df = pd.DataFrame(results)\n",
    "\n",
    "# Display the number of rows in the DataFrame\n",
    "print(\"Number of rows in DataFrame:\", len(results_df))\n",
    "\n",
    "# Display the first 10 rows of the DataFrame\n",
    "print(results_df.head(10))\n"
   ]
  }
 ],
 "metadata": {
  "kernelspec": {
   "display_name": "base",
   "language": "python",
   "name": "python3"
  },
  "language_info": {
   "codemirror_mode": {
    "name": "ipython",
    "version": 3
   },
   "file_extension": ".py",
   "mimetype": "text/x-python",
   "name": "python",
   "nbconvert_exporter": "python",
   "pygments_lexer": "ipython3",
   "version": "3.12.4"
  }
 },
 "nbformat": 4,
 "nbformat_minor": 5
}
